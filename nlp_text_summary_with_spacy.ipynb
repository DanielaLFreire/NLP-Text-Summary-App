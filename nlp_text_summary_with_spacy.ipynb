{
 "cells": [
  {
   "cell_type": "markdown",
   "metadata": {},
   "source": [
    "### Instalando pacotes"
   ]
  },
  {
   "cell_type": "code",
   "execution_count": 1,
   "metadata": {},
   "outputs": [],
   "source": [
    "# !pip install -U spacy\n",
    "# python -m spacy download en_core_web_sm\n",
    "# python -m spacy download pt_core_news_sm"
   ]
  },
  {
   "cell_type": "markdown",
   "metadata": {},
   "source": [
    "### Importando dependências"
   ]
  },
  {
   "cell_type": "code",
   "execution_count": 2,
   "metadata": {},
   "outputs": [],
   "source": [
    "from collections import Counter\n",
    "from heapq import nlargest\n",
    "from string import punctuation\n",
    "\n",
    "import spacy\n",
    "from spacy.lang.en.stop_words import STOP_WORDS"
   ]
  },
  {
   "cell_type": "markdown",
   "metadata": {},
   "source": [
    "## Em inglês"
   ]
  },
  {
   "cell_type": "code",
   "execution_count": 3,
   "metadata": {},
   "outputs": [],
   "source": [
    "nlp = spacy.load('en_core_web_sm')"
   ]
  },
  {
   "cell_type": "markdown",
   "metadata": {},
   "source": [
    "### Definindo a string"
   ]
  },
  {
   "cell_type": "code",
   "execution_count": 4,
   "metadata": {},
   "outputs": [],
   "source": [
    "doc = \"\"\"\n",
    "Machine learning (ML) is the study of computer algorithms that can improve automatically through \n",
    "experience and by the use of data. It is seen as a part of artificial intelligence. Machine learning\n",
    "algorithms build a model based on sample data, known as \"training data\", in order to make predictions or\n",
    "decisions without being explicitly programmed to do so. Machine learning algorithms are used in a wide\n",
    "variety of applications, such as in medicine, email filtering, speech recognition, and computer vision, where\n",
    "it is difficult or unfeasible to develop conventional algorithms to perform the needed tasks.\n",
    "\"\"\""
   ]
  },
  {
   "cell_type": "code",
   "execution_count": 5,
   "metadata": {},
   "outputs": [],
   "source": [
    "doc = nlp(doc)"
   ]
  },
  {
   "cell_type": "code",
   "execution_count": 6,
   "metadata": {},
   "outputs": [
    {
     "data": {
      "text/plain": [
       "5"
      ]
     },
     "execution_count": 6,
     "metadata": {},
     "output_type": "execute_result"
    }
   ],
   "source": [
    "len(list(doc.sents))"
   ]
  },
  {
   "cell_type": "markdown",
   "metadata": {},
   "source": [
    "### Filtrando os tokens"
   ]
  },
  {
   "cell_type": "code",
   "execution_count": 7,
   "metadata": {},
   "outputs": [],
   "source": [
    "keyword = []\n",
    "stopwords = list(STOP_WORDS)\n",
    "pos_tag = ['PROPN', 'ADJ', 'NOUN', 'VERB']\n",
    "\n",
    "for token in doc:\n",
    "    if (token.text in stopwords or token.text in punctuation):\n",
    "        continue\n",
    "    if (token.pos_ in pos_tag):\n",
    "        keyword.append(token.text)"
   ]
  },
  {
   "cell_type": "markdown",
   "metadata": {},
   "source": [
    "### Calculando a frequência"
   ]
  },
  {
   "cell_type": "code",
   "execution_count": 8,
   "metadata": {},
   "outputs": [
    {
     "data": {
      "text/plain": [
       "[('algorithms', 4),\n",
       " ('Machine', 3),\n",
       " ('learning', 3),\n",
       " ('data', 3),\n",
       " ('computer', 2)]"
      ]
     },
     "execution_count": 8,
     "metadata": {},
     "output_type": "execute_result"
    }
   ],
   "source": [
    "freq_word = Counter(keyword)\n",
    "freq_word.most_common(5)"
   ]
  },
  {
   "cell_type": "markdown",
   "metadata": {},
   "source": [
    "### Normalização"
   ]
  },
  {
   "cell_type": "code",
   "execution_count": 9,
   "metadata": {},
   "outputs": [
    {
     "data": {
      "text/plain": [
       "[('algorithms', 1.0),\n",
       " ('Machine', 0.75),\n",
       " ('learning', 0.75),\n",
       " ('data', 0.75),\n",
       " ('computer', 0.5)]"
      ]
     },
     "execution_count": 9,
     "metadata": {},
     "output_type": "execute_result"
    }
   ],
   "source": [
    "max_freq = Counter(keyword).most_common(1)[0][1]\n",
    "\n",
    "for word in freq_word.keys():\n",
    "    freq_word[word] = (freq_word[word]/max_freq)\n",
    "freq_word.most_common(5)    "
   ]
  },
  {
   "cell_type": "markdown",
   "metadata": {},
   "source": [
    "### Definindo o peso das sentenças"
   ]
  },
  {
   "cell_type": "code",
   "execution_count": 10,
   "metadata": {},
   "outputs": [
    {
     "name": "stdout",
     "output_type": "stream",
     "text": [
      "{\n",
      "Machine learning (ML) is the study of computer algorithms that can improve automatically through \n",
      "experience and by the use of data.: 5.0, It is seen as a part of artificial intelligence.: 0.75, Machine learning\n",
      "algorithms build a model based on sample data, known as \"training data\", in order to make predictions or\n",
      "decisions without being explicitly programmed to do so.: 6.5, Machine learning algorithms are used in a wide\n",
      "variety of applications, such as in medicine, email filtering, speech recognition, and computer vision, where\n",
      "it is difficult or unfeasible to develop conventional algorithms to perform the needed tasks.: 8.0}\n"
     ]
    }
   ],
   "source": [
    "sent_strength = {}\n",
    "\n",
    "for sent in doc.sents:\n",
    "    for word in sent:\n",
    "        if word.text in freq_word.keys():\n",
    "            if sent in sent_strength.keys():\n",
    "                sent_strength[sent] += freq_word[word.text]\n",
    "            else:\n",
    "                sent_strength[sent] = freq_word[word.text]\n",
    "                \n",
    "print(sent_strength)                "
   ]
  },
  {
   "cell_type": "markdown",
   "metadata": {},
   "source": [
    "### Sumarizando a string"
   ]
  },
  {
   "cell_type": "code",
   "execution_count": 11,
   "metadata": {},
   "outputs": [
    {
     "name": "stdout",
     "output_type": "stream",
     "text": [
      "[Machine learning algorithms are used in a wide\n",
      "variety of applications, such as in medicine, email filtering, speech recognition, and computer vision, where\n",
      "it is difficult or unfeasible to develop conventional algorithms to perform the needed tasks., Machine learning\n",
      "algorithms build a model based on sample data, known as \"training data\", in order to make predictions or\n",
      "decisions without being explicitly programmed to do so., \n",
      "Machine learning (ML) is the study of computer algorithms that can improve automatically through \n",
      "experience and by the use of data.]\n"
     ]
    }
   ],
   "source": [
    "summarized_sentences = nlargest(3, sent_strength, key=sent_strength.get)\n",
    "print(summarized_sentences)"
   ]
  },
  {
   "cell_type": "code",
   "execution_count": 12,
   "metadata": {},
   "outputs": [
    {
     "name": "stdout",
     "output_type": "stream",
     "text": [
      "<class 'spacy.tokens.span.Span'>\n"
     ]
    }
   ],
   "source": [
    "print(type(summarized_sentences[0]))"
   ]
  },
  {
   "cell_type": "markdown",
   "metadata": {},
   "source": [
    "### Texto sumarizado :) "
   ]
  },
  {
   "cell_type": "code",
   "execution_count": 13,
   "metadata": {},
   "outputs": [
    {
     "name": "stdout",
     "output_type": "stream",
     "text": [
      "Machine learning algorithms are used in a wide\n",
      "variety of applications, such as in medicine, email filtering, speech recognition, and computer vision, where\n",
      "it is difficult or unfeasible to develop conventional algorithms to perform the needed tasks. Machine learning\n",
      "algorithms build a model based on sample data, known as \"training data\", in order to make predictions or\n",
      "decisions without being explicitly programmed to do so. \n",
      "Machine learning (ML) is the study of computer algorithms that can improve automatically through \n",
      "experience and by the use of data.\n"
     ]
    }
   ],
   "source": [
    "final_sentences = [w.text for w in summarized_sentences]\n",
    "summary = ' '.join(final_sentences)\n",
    "print(summary)"
   ]
  },
  {
   "cell_type": "markdown",
   "metadata": {},
   "source": [
    "# "
   ]
  },
  {
   "cell_type": "markdown",
   "metadata": {},
   "source": [
    "## Em português"
   ]
  },
  {
   "cell_type": "code",
   "execution_count": 14,
   "metadata": {},
   "outputs": [],
   "source": [
    "from spacy.lang.pt.stop_words import STOP_WORDS"
   ]
  },
  {
   "cell_type": "code",
   "execution_count": 15,
   "metadata": {},
   "outputs": [],
   "source": [
    "nlp_pt = spacy.load('pt_core_news_sm')"
   ]
  },
  {
   "cell_type": "code",
   "execution_count": 16,
   "metadata": {},
   "outputs": [],
   "source": [
    "doc_pt = \"\"\"\"\n",
    "O aprendizado de máquina é um subcampo da Engenharia e da ciência da computação que evoluiu do estudo\n",
    "de reconhecimento de padrões e da teoria do aprendizado computacional em inteligência artificial.\n",
    "Em 1959, Arthur Samuel definiu aprendizado de máquina como o \"campo de estudo que dá aos computadores\n",
    "a habilidade de aprender sem serem explicitamente programados\". O aprendizado automático explora o\n",
    "estudo e construção de algoritmos que podem aprender de seus erros e fazer previsões sobre dados.\n",
    "Tais algoritmos operam construindo um modelo a partir de inputs amostrais a fim de fazer previsões \n",
    "ou decisões guiadas pelos dados ao invés de simplesmente seguindo inflexíveis e estáticas instruções\n",
    "programadas. Enquanto que na inteligência artificial existem dois tipos de raciocínio (o indutivo, que\n",
    "extrai regras e padrões de grandes conjuntos de dados, e o dedutivo), o aprendizado de máquina só se\n",
    "preocupa com o indutivo.\n",
    "\"\"\""
   ]
  },
  {
   "cell_type": "code",
   "execution_count": 17,
   "metadata": {},
   "outputs": [],
   "source": [
    "doc_pt = nlp(doc_pt)"
   ]
  },
  {
   "cell_type": "code",
   "execution_count": 18,
   "metadata": {},
   "outputs": [
    {
     "data": {
      "text/plain": [
       "8"
      ]
     },
     "execution_count": 18,
     "metadata": {},
     "output_type": "execute_result"
    }
   ],
   "source": [
    "len(list(doc_pt.sents))"
   ]
  },
  {
   "cell_type": "code",
   "execution_count": 19,
   "metadata": {},
   "outputs": [],
   "source": [
    "keyword_pt = []\n",
    "stopwords = list(STOP_WORDS)\n",
    "pos_tag = ['PROPN', 'ADJ', 'NOUN', 'VERB']\n",
    "\n",
    "for token in doc_pt:\n",
    "    if (token.text in stopwords or token.text in punctuation):\n",
    "        continue\n",
    "    if (token.pos_ in pos_tag):\n",
    "        keyword_pt.append(token.text)"
   ]
  },
  {
   "cell_type": "code",
   "execution_count": 20,
   "metadata": {},
   "outputs": [
    {
     "data": {
      "text/plain": [
       "[('aprendizado', 5),\n",
       " ('máquina', 3),\n",
       " ('estudo', 3),\n",
       " ('dados', 3),\n",
       " ('inteligência', 2)]"
      ]
     },
     "execution_count": 20,
     "metadata": {},
     "output_type": "execute_result"
    }
   ],
   "source": [
    "freq_word_pt = Counter(keyword_pt)\n",
    "freq_word_pt.most_common(5)"
   ]
  },
  {
   "cell_type": "code",
   "execution_count": 21,
   "metadata": {},
   "outputs": [
    {
     "data": {
      "text/plain": [
       "[('aprendizado', 1.0),\n",
       " ('máquina', 0.6),\n",
       " ('estudo', 0.6),\n",
       " ('dados', 0.6),\n",
       " ('inteligência', 0.4)]"
      ]
     },
     "execution_count": 21,
     "metadata": {},
     "output_type": "execute_result"
    }
   ],
   "source": [
    "max_freq_pt = Counter(keyword_pt).most_common(1)[0][1]\n",
    "\n",
    "for word in freq_word_pt.keys():\n",
    "    freq_word_pt[word] = (freq_word_pt[word]/max_freq_pt)\n",
    "freq_word_pt.most_common(5)    "
   ]
  },
  {
   "cell_type": "code",
   "execution_count": 22,
   "metadata": {},
   "outputs": [
    {
     "name": "stdout",
     "output_type": "stream",
     "text": [
      "{\"\n",
      "O aprendizado de máquina é um subcampo da Engenharia e da ciência da computação que evoluiu do estudo\n",
      "de reconhecimento de padrões e da teoria do aprendizado computacional em inteligência artificial.: 5.600000000000002, Em 1959, Arthur Samuel definiu aprendizado de máquina como o \"campo de estudo que dá aos computadores\n",
      "a habilidade de aprender sem serem explicitamente programados\".: 4.4, O aprendizado automático explora o\n",
      "estudo e construção de algoritmos que podem aprender de seus erros e fazer previsões sobre dados.: 3.8000000000000003, Tais algoritmos operam construindo um modelo a partir de inputs amostrais a fim de fazer previsões \n",
      "ou decisões guiadas pelos dados ao invés de simplesmente seguindo inflexíveis e estáticas instruções\n",
      "programadas.: 4.200000000000001, Enquanto que na inteligência artificial existem dois tipos de raciocínio (o indutivo, que\n",
      "extrai regras e padrões de grandes conjuntos de dados, e o dedutivo), o aprendizado de máquina só se\n",
      "preocupa com o indutivo.: 5.6000000000000005}\n"
     ]
    }
   ],
   "source": [
    "sent_strength_pt = {}\n",
    "\n",
    "for sent in doc_pt.sents:\n",
    "    for word in sent:\n",
    "        if word.text in freq_word_pt.keys():\n",
    "            if sent in sent_strength_pt.keys():\n",
    "                sent_strength_pt[sent] += freq_word_pt[word.text]\n",
    "            else:\n",
    "                sent_strength_pt[sent] = freq_word_pt[word.text]\n",
    "                \n",
    "print(sent_strength_pt)                "
   ]
  },
  {
   "cell_type": "code",
   "execution_count": 23,
   "metadata": {},
   "outputs": [
    {
     "name": "stdout",
     "output_type": "stream",
     "text": [
      "[\"\n",
      "O aprendizado de máquina é um subcampo da Engenharia e da ciência da computação que evoluiu do estudo\n",
      "de reconhecimento de padrões e da teoria do aprendizado computacional em inteligência artificial., Enquanto que na inteligência artificial existem dois tipos de raciocínio (o indutivo, que\n",
      "extrai regras e padrões de grandes conjuntos de dados, e o dedutivo), o aprendizado de máquina só se\n",
      "preocupa com o indutivo., Em 1959, Arthur Samuel definiu aprendizado de máquina como o \"campo de estudo que dá aos computadores\n",
      "a habilidade de aprender sem serem explicitamente programados\".]\n"
     ]
    }
   ],
   "source": [
    "summarized_sentences_pt = nlargest(3, sent_strength_pt, key=sent_strength_pt.get)\n",
    "print(summarized_sentences_pt)"
   ]
  },
  {
   "cell_type": "code",
   "execution_count": 24,
   "metadata": {},
   "outputs": [
    {
     "name": "stdout",
     "output_type": "stream",
     "text": [
      "\"\n",
      "O aprendizado de máquina é um subcampo da Engenharia e da ciência da computação que evoluiu do estudo\n",
      "de reconhecimento de padrões e da teoria do aprendizado computacional em inteligência artificial. Enquanto que na inteligência artificial existem dois tipos de raciocínio (o indutivo, que\n",
      "extrai regras e padrões de grandes conjuntos de dados, e o dedutivo), o aprendizado de máquina só se\n",
      "preocupa com o indutivo. Em 1959, Arthur Samuel definiu aprendizado de máquina como o \"campo de estudo que dá aos computadores\n",
      "a habilidade de aprender sem serem explicitamente programados\".\n"
     ]
    }
   ],
   "source": [
    "final_sentences_pt = [w.text for w in summarized_sentences_pt]\n",
    "summary_pt = ' '.join(final_sentences_pt)\n",
    "print(summary_pt)"
   ]
  }
 ],
 "metadata": {
  "interpreter": {
   "hash": "082e9a3bcad0a290d0001e938aa60b99250c6c2ef33a923c00b70f9826caf4b7"
  },
  "kernelspec": {
   "display_name": "Python 3 (ipykernel)",
   "language": "python",
   "name": "python3"
  },
  "language_info": {
   "codemirror_mode": {
    "name": "ipython",
    "version": 3
   },
   "file_extension": ".py",
   "mimetype": "text/x-python",
   "name": "python",
   "nbconvert_exporter": "python",
   "pygments_lexer": "ipython3",
   "version": "3.8.4rc1"
  }
 },
 "nbformat": 4,
 "nbformat_minor": 4
}
